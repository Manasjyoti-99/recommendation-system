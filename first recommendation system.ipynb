{
 "cells": [
  {
   "cell_type": "markdown",
   "metadata": {},
   "source": [
    "# A simple recommendation system that recommends similar posts for a given post in a social media platform"
   ]
  },
  {
   "cell_type": "code",
   "execution_count": null,
   "metadata": {},
   "outputs": [],
   "source": [
    "#importing the modules and dataset\n",
    "import pandas as pd\n",
    "import numpy as np\n",
    "data_ori= pd.read_csv(r'C:\\Users\\Asus\\Desktop\\Imp\\ml models\\recommendation system\\posts.csv')\n",
    "print(data_ori.head(5))"
   ]
  },
  {
   "cell_type": "code",
   "execution_count": 99,
   "metadata": {
    "scrolled": true
   },
   "outputs": [
    {
     "name": "stdout",
     "output_type": "stream",
     "text": [
      "_id            0\n",
      "title          0\n",
      "category      28\n",
      " post_type     0\n",
      "dtype: int64\n",
      "(493, 4)\n"
     ]
    }
   ],
   "source": [
    "#checking for null values and removing them\n",
    "data1=data_ori\n",
    "print(data1.isnull().sum())\n",
    "print(data1.shape)"
   ]
  },
  {
   "cell_type": "code",
   "execution_count": 100,
   "metadata": {},
   "outputs": [
    {
     "name": "stdout",
     "output_type": "stream",
     "text": [
      "_id           0\n",
      "title         0\n",
      "category      0\n",
      " post_type    0\n",
      "dtype: int64\n",
      "(465, 4)\n"
     ]
    }
   ],
   "source": [
    "data2=data1.dropna()\n",
    "print(data2.isnull().sum())\n",
    "print(data2.shape)"
   ]
  },
  {
   "cell_type": "code",
   "execution_count": 101,
   "metadata": {},
   "outputs": [
    {
     "name": "stdout",
     "output_type": "stream",
     "text": [
      "231\n"
     ]
    }
   ],
   "source": [
    "#checking the length of the \"category\" column and merging those values which are less than 2\n",
    "print(len(data2.category.unique()))"
   ]
  },
  {
   "cell_type": "code",
   "execution_count": 102,
   "metadata": {
    "scrolled": true
   },
   "outputs": [
    {
     "name": "stdout",
     "output_type": "stream",
     "text": [
      "category\n",
      "Photography                                                                                                      81\n",
      "Drawings                                                                                                         47\n",
      "Painting                                                                                                         20\n",
      "Visual Arts                                                                                                      10\n",
      "Computer Technology|Machine Learning                                                                              7\n",
      "Computer Technology|Computer Application|Information Technology                                                   7\n",
      "Competition Laws                                                                                                  5\n",
      "Mass Media|Indian Government                                                                                      5\n",
      "Typography|Pen and ink                                                                                            5\n",
      "Computer Technology|Computer Application                                                                          4\n",
      "Photography|Architecture                                                                                          4\n",
      "Computer Technology|Information Technology                                                                        4\n",
      "Drawing                                                                                                           3\n",
      "Computer Technology|Cloud Computing                                                                               3\n",
      "Calligraphy|Typography|Pen and ink                                                                                3\n",
      "Mixed Media                                                                                                       3\n",
      "Business|Business Organisation                                                                                    3\n",
      "Pen and ink                                                                                                       3\n",
      "Marketing|Advertising                                                                                             3\n",
      "Geography|Physical Geography                                                                                      3\n",
      "Art                                                                                                               3\n",
      "Economics|Revenue Concept                                                                                         2\n",
      "Painting|Watercolours|2D Composition                                                                              2\n",
      "Watercolours                                                                                                      2\n",
      "Visual Arts|Photography                                                                                           2\n",
      "Computer Technology|Computation                                                                                   2\n",
      "Accounting|Fundamental Of Accounting                                                                              2\n",
      "Computer Technology|Artificial Intelligence                                                                       2\n",
      "Drawings|Calligraphy                                                                                              2\n",
      "Computer Technology|Programming languages                                                                         2\n",
      "                                                                                                                 ..\n",
      "Fashion Design|Visual Arts|Graphic Design|Artistic design|Graphic|Illustration                                    1\n",
      "Fashion Design|Visual Arts|Conceptual|Artistic design                                                             1\n",
      "Fashion Design|Illustration|Watercolours|Drawings                                                                 1\n",
      "Fashion Design|Illustration|Watercolours                                                                          1\n",
      "Legal Studies|Legal System                                                                                        1\n",
      "Legal Studies|Legal System|Legal Tradition|Nationality Law|Government Law                                         1\n",
      "Literature|Movements in Literature                                                                                1\n",
      "Literature|Stories|Fictions|Movements in Literature                                                               1\n",
      "Photography|Architecture|Painting                                                                                 1\n",
      "Photography|Architecture|Illustration                                                                             1\n",
      "Philosophy|Public Philosophy                                                                                      1\n",
      "Philosophy|Applied Ethics                                                                                         1\n",
      "Painting|Visual Arts|Craft|Conceptual                                                                             1\n",
      "Painting|Craft|Mixed Media|2D Composition                                                                         1\n",
      "Painting|Craft|Artistic design                                                                                    1\n",
      "Operating Systems                                                                                                 1\n",
      "Music                                                                                                             1\n",
      "Mixed Media|Conceptual                                                                                            1\n",
      "Mixed Media|Calligraphy|Pen and ink                                                                               1\n",
      "Mathematics|Linear Algebra                                                                                        1\n",
      "Mass Media|Videography                                                                                            1\n",
      "Mass Media|Media And Society                                                                                      1\n",
      "Mass Media|International Relations                                                                                1\n",
      "Marketing|Principles Of Marketing|Marketing Research Methadology|Marketing Management|International Marketing     1\n",
      "Marketing|Principles Of Marketing|International Marketing|Promotion And Distribution Decisions                    1\n",
      "Marketing|Marketing Management                                                                                    1\n",
      "Management|Team Mangememnt                                                                                        1\n",
      "Management|Business Management|Technology Mangement|Managerial Activity|Creative And Lateral Management           1\n",
      "Management|Business Management                                                                                    1\n",
      "2D Composition|Watercolours|Painting                                                                              1\n",
      "Name: category, Length: 231, dtype: int64\n"
     ]
    }
   ],
   "source": [
    "category_stats=data2.groupby('category')['category'].agg('count').sort_values(ascending=False)\n",
    "print(category_stats)"
   ]
  },
  {
   "cell_type": "code",
   "execution_count": 103,
   "metadata": {},
   "outputs": [
    {
     "name": "stdout",
     "output_type": "stream",
     "text": [
      "181\n"
     ]
    }
   ],
   "source": [
    "print(len(category_stats[category_stats<=1]))"
   ]
  },
  {
   "cell_type": "code",
   "execution_count": 104,
   "metadata": {
    "scrolled": true
   },
   "outputs": [
    {
     "name": "stdout",
     "output_type": "stream",
     "text": [
      "                        _id                          title          category  \\\n",
      "0  5d62abaa65218653a132c956                    hello there             Misc.   \n",
      "1  5d6d39567fa40e1417a4931c                      Ml and AI             Misc.   \n",
      "2  5d7d23315720533e15c3b1ee  What is an Operating System ?             Misc.   \n",
      "3  5d7d405e5720533e15c3b1f3                     Lord Shiva          Drawings   \n",
      "4  5d80dfbc6c53455f896e600e   How Competition law evolved?  Competition Laws   \n",
      "\n",
      "   post_type  \n",
      "0       blog  \n",
      "1       blog  \n",
      "2       blog  \n",
      "3    artwork  \n",
      "4       blog  \n",
      "(465, 4)\n",
      "51\n"
     ]
    },
    {
     "name": "stderr",
     "output_type": "stream",
     "text": [
      "D:\\USER FILE\\Softwares_installed\\Anaconda3\\lib\\site-packages\\pandas\\core\\generic.py:4401: SettingWithCopyWarning: \n",
      "A value is trying to be set on a copy of a slice from a DataFrame.\n",
      "Try using .loc[row_indexer,col_indexer] = value instead\n",
      "\n",
      "See the caveats in the documentation: http://pandas.pydata.org/pandas-docs/stable/indexing.html#indexing-view-versus-copy\n",
      "  self[name] = value\n"
     ]
    }
   ],
   "source": [
    "Misc=category_stats[category_stats<=1]\n",
    "data2.category=data2.category.apply(lambda x:'Misc.' if x in Misc else x)\n",
    "print(data2.head())\n",
    "print(data2.shape)\n",
    "print(len(data2.category.unique()))"
   ]
  },
  {
   "cell_type": "code",
   "execution_count": 105,
   "metadata": {},
   "outputs": [
    {
     "name": "stdout",
     "output_type": "stream",
     "text": [
      "(465, 75)\n"
     ]
    }
   ],
   "source": [
    "#converting the word vector using TF-IDF Vectorizer\n",
    "from sklearn.feature_extraction.text import TfidfVectorizer\n",
    "tfidf= TfidfVectorizer(stop_words='english')\n",
    "tfidf_matrix=tfidf.fit_transform(data2['category'])\n",
    "print(tfidf_matrix.shape)"
   ]
  },
  {
   "cell_type": "markdown",
   "metadata": {},
   "source": [
    "75 words were used to describe the \"category\" column for 465 posts"
   ]
  },
  {
   "cell_type": "code",
   "execution_count": 106,
   "metadata": {},
   "outputs": [],
   "source": [
    "#using Linear Kernel for computing the similarity score\n",
    "from sklearn.metrics.pairwise import linear_kernel\n",
    "cosine_sim=linear_kernel(tfidf_matrix,tfidf_matrix)"
   ]
  },
  {
   "cell_type": "markdown",
   "metadata": {},
   "source": [
    "Other methods for calculating similarity scores are the Euclidean, the Pearson and the Cosine Similarity scores."
   ]
  },
  {
   "cell_type": "code",
   "execution_count": 107,
   "metadata": {},
   "outputs": [],
   "source": [
    "#reverse mapping index and title\n",
    "indices=pd.Series(data2.index,index=data2['title']).drop_duplicates()"
   ]
  },
  {
   "cell_type": "code",
   "execution_count": 108,
   "metadata": {},
   "outputs": [],
   "source": [
    "#recommendation function\n",
    "def get_recommendations(title,cosine_sim=cosine_sim):\n",
    "    idx=indices[title]\n",
    "    sim_scores=list(enumerate(cosine_sim[idx]))\n",
    "    sim_scores=sorted(sim_scores, key=lambda x:x[1], reverse=True)\n",
    "    sim_scores=sim_scores[1:11]\n",
    "    movie_indices=[i[0] for i in sim_scores]\n",
    "    return data2['title'].iloc[movie_indices]"
   ]
  },
  {
   "cell_type": "code",
   "execution_count": 109,
   "metadata": {},
   "outputs": [
    {
     "data": {
      "text/plain": [
       "11           Trident\n",
       "12        Lord shiva\n",
       "15            Kid Bu\n",
       "26     Shadow Sketch\n",
       "30        The Chosen\n",
       "34           Spartan\n",
       "45      ROMAN REIGNS\n",
       "46                OM\n",
       "47         MK Swords\n",
       "100         Mahakaal\n",
       "Name: title, dtype: object"
      ]
     },
     "execution_count": 109,
     "metadata": {},
     "output_type": "execute_result"
    }
   ],
   "source": [
    "get_recommendations('Lord Shiva')"
   ]
  },
  {
   "cell_type": "code",
   "execution_count": 110,
   "metadata": {},
   "outputs": [
    {
     "data": {
      "text/plain": [
       "110                            Ethernet\n",
       "128     What is Information technology?\n",
       "488          CI/CD using GitHub Actions\n",
       "106               Topology & it's types\n",
       "107                Baseband & Broadband\n",
       "108                  Information System\n",
       "109    Database management system(DBMS)\n",
       "112                       Network Model\n",
       "113    Decision Making with 7 steps !!!\n",
       "114                Network & it's types\n",
       "Name: title, dtype: object"
      ]
     },
     "execution_count": 110,
     "metadata": {},
     "output_type": "execute_result"
    }
   ],
   "source": [
    "get_recommendations('MIS')"
   ]
  },
  {
   "cell_type": "code",
   "execution_count": 111,
   "metadata": {},
   "outputs": [
    {
     "data": {
      "text/plain": [
       "5        Raghavan Committee - 2002.\n",
       "6     Let's discuss some Case laws!\n",
       "7                  Forms of Cartel.\n",
       "18     CLASSIFYING FORMS OF CARTELS\n",
       "0                       hello there\n",
       "1                         Ml and AI\n",
       "2     What is an Operating System ?\n",
       "3                        Lord Shiva\n",
       "8                      Biodiversity\n",
       "9                   Economic policy\n",
       "Name: title, dtype: object"
      ]
     },
     "execution_count": 111,
     "metadata": {},
     "output_type": "execute_result"
    }
   ],
   "source": [
    "get_recommendations('Forms of Cartel.')"
   ]
  },
  {
   "cell_type": "code",
   "execution_count": null,
   "metadata": {},
   "outputs": [],
   "source": [
    "# The recommendation system gets better when more metadata is taken into consideration."
   ]
  },
  {
   "cell_type": "code",
   "execution_count": null,
   "metadata": {},
   "outputs": [],
   "source": []
  }
 ],
 "metadata": {
  "kernelspec": {
   "display_name": "Python 3",
   "language": "python",
   "name": "python3"
  },
  "language_info": {
   "codemirror_mode": {
    "name": "ipython",
    "version": 3
   },
   "file_extension": ".py",
   "mimetype": "text/x-python",
   "name": "python",
   "nbconvert_exporter": "python",
   "pygments_lexer": "ipython3",
   "version": "3.6.5"
  }
 },
 "nbformat": 4,
 "nbformat_minor": 2
}
